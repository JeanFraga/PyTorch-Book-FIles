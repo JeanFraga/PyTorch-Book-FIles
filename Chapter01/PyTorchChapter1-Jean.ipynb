{
 "cells": [
  {
   "cell_type": "code",
   "execution_count": 6,
   "id": "b02cd542",
   "metadata": {},
   "outputs": [
    {
     "name": "stdout",
     "output_type": "stream",
     "text": [
      "2.7.1\n"
     ]
    }
   ],
   "source": [
    "import torch\n",
    "print(torch.__version__)"
   ]
  },
  {
   "cell_type": "code",
   "execution_count": 9,
   "id": "4115ed07",
   "metadata": {},
   "outputs": [
    {
     "name": "stdout",
     "output_type": "stream",
     "text": [
      "tensor([[18.9746]])\n"
     ]
    }
   ],
   "source": [
    "import torch\n",
    "import torch.nn as nn\n",
    "import torch.optim as optim\n",
    "import numpy as np\n",
    "\n",
    "# Model\n",
    "model = nn.Sequential(nn.Linear(1, 1))\n",
    "\n",
    "# Loss and optimizer\n",
    "criterion = nn.MSELoss()\n",
    "optimizer = optim.SGD(model.parameters(), lr=0.01)\n",
    "\n",
    "# Data\n",
    "xs = torch.tensor([[-1.0], [0.0], [1.0], [2.0], [3.0], [4.0]],\n",
    "                  dtype=torch.float32)\n",
    "ys = torch.tensor([[-3.0], [-1.0], [1.0], [3.0], [5.0], [7.0]],\n",
    "                  dtype=torch.float32)\n",
    "\n",
    "# Train\n",
    "for _ in range(500):\n",
    "    optimizer.zero_grad()\n",
    "    outputs = model(xs)\n",
    "    loss = criterion(outputs, ys)\n",
    "    loss.backward()\n",
    "    optimizer.step()\n",
    "    # print(f'Loss: {loss.item():.4f}')\n",
    "\n",
    "# Predict\n",
    "with torch.no_grad():\n",
    "    print(model(torch.tensor([[10.0]], dtype=torch.float32)))"
   ]
  },
  {
   "cell_type": "code",
   "execution_count": 10,
   "id": "00d0f2b4",
   "metadata": {},
   "outputs": [
    {
     "name": "stdout",
     "output_type": "stream",
     "text": [
      "Weight: [[1.9963129]]\n",
      "Bias: [-0.98856866]\n"
     ]
    }
   ],
   "source": [
    "# Access the first (and only) layer in the sequential model\n",
    "layer = model[0]\n",
    "# Get weights and bias\n",
    "weights = layer.weight.data.numpy()\n",
    "bias = layer.bias.data.numpy()\n",
    "print(f\"Weight: {weights}\")\n",
    "print(f\"Bias: {bias}\")"
   ]
  },
  {
   "cell_type": "code",
   "execution_count": null,
   "id": "1ff8871b",
   "metadata": {},
   "outputs": [],
   "source": []
  }
 ],
 "metadata": {
  "kernelspec": {
   "display_name": ".venv",
   "language": "python",
   "name": "python3"
  },
  "language_info": {
   "codemirror_mode": {
    "name": "ipython",
    "version": 3
   },
   "file_extension": ".py",
   "mimetype": "text/x-python",
   "name": "python",
   "nbconvert_exporter": "python",
   "pygments_lexer": "ipython3",
   "version": "3.13.5"
  }
 },
 "nbformat": 4,
 "nbformat_minor": 5
}
